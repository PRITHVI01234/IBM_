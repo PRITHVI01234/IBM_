{
 "cells": [
  {
   "cell_type": "markdown",
   "id": "cee43d88-ea46-45ea-9a16-ae5ee64d1996",
   "metadata": {},
   "source": [
    "## Data Science Tools and Ecosystem"
   ]
  },
  {
   "cell_type": "markdown",
   "id": "5274afec-30d8-4fe2-b858-b700f1a9b989",
   "metadata": {},
   "source": [
    "**In this notebook, Data Science Tools and Ecosystem are summarized.**"
   ]
  },
  {
   "cell_type": "markdown",
   "id": "ce510453-bf09-4b7a-8aa7-3d41b2c18e83",
   "metadata": {},
   "source": [
    "Some of the popular languages that Data Scientists use are:\n",
    "1. Python\n",
    "2. R\n",
    "3. Julia\n"
   ]
  },
  {
   "cell_type": "markdown",
   "id": "54a81d72-598f-4a61-8713-02b7fcf4711f",
   "metadata": {},
   "source": [
    "Some of the commonly used libraries used by Data Scientists include:\n",
    "1. NumPy\n",
    "2. Pandas\n",
    "3. Matplotlib\n"
   ]
  },
  {
   "cell_type": "markdown",
   "id": "b8dbdaee-ee59-4848-afac-788fdf2b18f4",
   "metadata": {},
   "source": [
    "| Data Science Tools |\n",
    "|--------------------|\n",
    "| Tool 1             |\n",
    "| Tool 2             |\n",
    "| Tool 3             |\n"
   ]
  },
  {
   "cell_type": "markdown",
   "id": "88fb7c3b-6d43-4650-b4cc-229f5ae47e0a",
   "metadata": {},
   "source": [
    "### Below are a few examples of evaluating arithmetic expressions in Python.\n"
   ]
  },
  {
   "cell_type": "markdown",
   "id": "18897c10-faf7-4a57-a909-1b874806b69c",
   "metadata": {},
   "source": [
    "**Objectives:**\n",
    "- List popular languages for Data Science\n",
    "- Introduce common Data Science libraries\n",
    "- Use markdown for documentation\n"
   ]
  },
  {
   "cell_type": "markdown",
   "id": "74547473-38a0-4f66-b694-5358c2f7f9fe",
   "metadata": {},
   "source": [
    "### Arithmetic Expression Examples\n",
    "\n",
    "In this section, we'll explore examples of arithmetic expressions in Python. These expressions involve basic operations such as addition, multiplication, and more. Understanding these examples is crucial for working with numerical data in the field of Data Science.\n"
   ]
  },
  {
   "cell_type": "code",
   "execution_count": 2,
   "id": "4bd92dea-5f70-4575-9911-675f4c678afe",
   "metadata": {},
   "outputs": [
    {
     "data": {
      "text/plain": [
       "17"
      ]
     },
     "execution_count": 2,
     "metadata": {},
     "output_type": "execute_result"
    }
   ],
   "source": [
    "# This is a simple arithmetic expression to multiply then add integers\n",
    "result = (3 * 4) + 5\n",
    "result\n"
   ]
  },
  {
   "cell_type": "code",
   "execution_count": 3,
   "id": "358b582f-f1a7-4773-a443-39ee5c5f92c9",
   "metadata": {},
   "outputs": [
    {
     "data": {
      "text/plain": [
       "3.3333333333333335"
      ]
     },
     "execution_count": 3,
     "metadata": {},
     "output_type": "execute_result"
    }
   ],
   "source": [
    "# This will convert 200 minutes to hours by dividing by 60\n",
    "minutes = 200\n",
    "hours = minutes / 60\n",
    "hours\n"
   ]
  },
  {
   "cell_type": "markdown",
   "id": "a33e7d5a-5df1-43f2-a8de-40223a91f5ac",
   "metadata": {},
   "source": [
    "## Author\n",
    "Your Name\n",
    "Prithvi Ragavendiran R"
   ]
  },
  {
   "cell_type": "code",
   "execution_count": null,
   "id": "488cb7d7-8e3d-4cae-9ad2-4a6acb0e0fc7",
   "metadata": {},
   "outputs": [],
   "source": []
  }
 ],
 "metadata": {
  "kernelspec": {
   "display_name": "Python 3 (ipykernel)",
   "language": "python",
   "name": "python3"
  },
  "language_info": {
   "codemirror_mode": {
    "name": "ipython",
    "version": 3
   },
   "file_extension": ".py",
   "mimetype": "text/x-python",
   "name": "python",
   "nbconvert_exporter": "python",
   "pygments_lexer": "ipython3",
   "version": "3.12.1"
  }
 },
 "nbformat": 4,
 "nbformat_minor": 5
}
